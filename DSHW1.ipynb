{
  "nbformat": 4,
  "nbformat_minor": 0,
  "metadata": {
    "colab": {
      "provenance": [],
      "include_colab_link": true
    },
    "kernelspec": {
      "name": "python3",
      "display_name": "Python 3"
    },
    "language_info": {
      "name": "python"
    }
  },
  "cells": [
    {
      "cell_type": "markdown",
      "metadata": {
        "id": "view-in-github",
        "colab_type": "text"
      },
      "source": [
        "<a href=\"https://colab.research.google.com/github/basilegupov/First_repo/blob/master/DSHW1.ipynb\" target=\"_parent\"><img src=\"https://colab.research.google.com/assets/colab-badge.svg\" alt=\"Open In Colab\"/></a>"
      ]
    },
    {
      "cell_type": "code",
      "execution_count": 1,
      "metadata": {
        "id": "Jj-NCeGSGUXQ"
      },
      "outputs": [],
      "source": [
        "import numpy as np\n"
      ]
    },
    {
      "cell_type": "code",
      "source": [
        "# 1. Створіть одновимірний масив (вектор) з першими 10-ма натуральними числами та\n",
        "# виведіть його значення.\n",
        "\n",
        "vector = np.arange(1, 11)\n",
        "print(\"Одновимірний масив:\", vector)\n"
      ],
      "metadata": {
        "colab": {
          "base_uri": "https://localhost:8080/"
        },
        "id": "0tGJLErdGwGo",
        "outputId": "f1e03397-7f2b-4127-e29a-d0297792d225"
      },
      "execution_count": 2,
      "outputs": [
        {
          "output_type": "stream",
          "name": "stdout",
          "text": [
            "Одновимірний масив: [ 1  2  3  4  5  6  7  8  9 10]\n"
          ]
        }
      ]
    },
    {
      "cell_type": "code",
      "source": [
        "# 2. Створіть двовимірний масив (матрицю) розміром 3x3, заповніть його нулями та\n",
        "# виведіть його значення.\n",
        "\n",
        "matrix_3x3_zeros = np.zeros((3, 3), dtype=np.int8)\n",
        "print(\"Двовимірний масив 3x3, заповнений нулями:\\n\", matrix_3x3_zeros)\n"
      ],
      "metadata": {
        "colab": {
          "base_uri": "https://localhost:8080/"
        },
        "id": "v20ZngUVLdlU",
        "outputId": "2e7907ec-5158-41b6-e038-42e0ca90dacb"
      },
      "execution_count": 3,
      "outputs": [
        {
          "output_type": "stream",
          "name": "stdout",
          "text": [
            "Двовимірний масив 3x3, заповнений нулями:\n",
            " [[0 0 0]\n",
            " [0 0 0]\n",
            " [0 0 0]]\n"
          ]
        }
      ]
    },
    {
      "cell_type": "code",
      "source": [
        "# 3. Створіть масив розміром 5x5, заповніть його випадковими цілими числами в\n",
        "# діапазоні від 1 до 10 та виведіть його значення.\n",
        "\n",
        "matrix_5x5_random_int = np.random.randint(1, 11, size=(5, 5))\n",
        "print(\"Масив розміром 5x5, заповнений випадковими цілими числами:\\n\",\n",
        "      matrix_5x5_random_int)\n"
      ],
      "metadata": {
        "colab": {
          "base_uri": "https://localhost:8080/"
        },
        "id": "2o9ylAoZQyJA",
        "outputId": "c7d2cab1-5938-49bb-f775-e5dfa27b581c"
      },
      "execution_count": 4,
      "outputs": [
        {
          "output_type": "stream",
          "name": "stdout",
          "text": [
            "Масив розміром 5x5, заповнений випадковими цілими числами:\n",
            " [[ 5  1  7  5  9]\n",
            " [ 6  8  2  1 10]\n",
            " [ 7  2  2  1  9]\n",
            " [ 9  6  2  5  5]\n",
            " [ 1  5  2  1  1]]\n"
          ]
        }
      ]
    },
    {
      "cell_type": "code",
      "source": [
        "# 4. Створіть масив розміром 4x4, заповніть його випадковими дійсними числами в\n",
        "# діапазоні від 0 до 1 та виведіть його значення.\n",
        "\n",
        "matrix_4x4_random_float = np.random.rand(4, 4)\n",
        "print(\"Масив розміром 4x4, заповнений випадковими дійсними числами:\\n\",\n",
        "      matrix_4x4_random_float)\n"
      ],
      "metadata": {
        "colab": {
          "base_uri": "https://localhost:8080/"
        },
        "id": "Ps64EgEwRg-v",
        "outputId": "ce62a792-297f-415a-a637-697ef52fcea0"
      },
      "execution_count": 5,
      "outputs": [
        {
          "output_type": "stream",
          "name": "stdout",
          "text": [
            "Масив розміром 4x4, заповнений випадковими дійсними числами:\n",
            " [[0.63467081 0.99397829 0.30875195 0.57618275]\n",
            " [0.81731277 0.69153335 0.02426768 0.08618486]\n",
            " [0.08625085 0.4114128  0.81505062 0.75818753]\n",
            " [0.4884143  0.54342604 0.67080972 0.39380503]]\n"
          ]
        }
      ]
    },
    {
      "cell_type": "code",
      "source": [
        "# 5. Створіть два одновимірних масиви розміром 5, заповніть їх випадковими цілими\n",
        "# числами в діапазоні від 1 до 10 та виконайте на них поелементні операції\n",
        "# додавання, віднімання та множення.\n",
        "\n",
        "vector1 = np.random.randint(1, 11, size=5)\n",
        "vector2 = np.random.randint(1, 11, size=5)\n",
        "print(\"Вектор 1:\", vector1)\n",
        "print(\"Вектор 2:\", vector2)\n",
        "\n",
        "addition = vector1 + vector2\n",
        "subtraction = vector1 - vector2\n",
        "multiplication = vector1 * vector2\n",
        "\n",
        "print(\"Додавання:\", addition)\n",
        "print(\"Віднімання:\", subtraction)\n",
        "print(\"Множення:\", multiplication)\n"
      ],
      "metadata": {
        "colab": {
          "base_uri": "https://localhost:8080/"
        },
        "id": "KPFYfkuDSZca",
        "outputId": "dbaa6687-1209-44c8-ce4c-ace52fd7fe2f"
      },
      "execution_count": 6,
      "outputs": [
        {
          "output_type": "stream",
          "name": "stdout",
          "text": [
            "Вектор 1: [10  9  9  2  5]\n",
            "Вектор 2: [4 3 2 2 9]\n",
            "Додавання: [14 12 11  4 14]\n",
            "Віднімання: [ 6  6  7  0 -4]\n",
            "Множення: [40 27 18  4 45]\n"
          ]
        }
      ]
    },
    {
      "cell_type": "code",
      "source": [
        "# 6. Створіть два вектори розміром 7, заповніть довільними числами та знайдіть їх\n",
        "# скалярний добуток.\n",
        "\n",
        "vector1 = np.random.rand(7)\n",
        "vector2 = np.random.rand(7)\n",
        "dot_product = np.dot(vector1, vector2)\n",
        "print(\"Скалярний добуток:\", dot_product)"
      ],
      "metadata": {
        "colab": {
          "base_uri": "https://localhost:8080/"
        },
        "id": "_tQsw3a_VRKC",
        "outputId": "66c562c4-8b16-4a66-c9fe-726b501145a7"
      },
      "execution_count": 7,
      "outputs": [
        {
          "output_type": "stream",
          "name": "stdout",
          "text": [
            "Скалярний добуток: 3.4407309438437172\n"
          ]
        }
      ]
    },
    {
      "cell_type": "code",
      "source": [
        "# 7. Створіть дві матриці розміром 2x2 та 2x3, заповніть їх випадковими цілими\n",
        "# числами в діапазоні від 1 до 10 та перемножте їх між собою.\n",
        "\n",
        "matrix_2x2 = np.random.randint(1, 11, size=(2, 2))\n",
        "matrix_2x3 = np.random.randint(1, 11, size=(2, 3))\n",
        "matrix_product = np.dot(matrix_2x2, matrix_2x3)\n",
        "print(\"Матриця 2x2:\\n\", matrix_2x2)\n",
        "print(\"Матриця 2x3:\\n\", matrix_2x3)\n",
        "print(\"Добуток матриць:\\n\", matrix_product)\n"
      ],
      "metadata": {
        "colab": {
          "base_uri": "https://localhost:8080/"
        },
        "id": "aSrEQulTWhJn",
        "outputId": "c84ed95f-aaf7-4f96-9202-b948ecfbebf6"
      },
      "execution_count": 8,
      "outputs": [
        {
          "output_type": "stream",
          "name": "stdout",
          "text": [
            "Матриця 2x2:\n",
            " [[8 6]\n",
            " [1 6]]\n",
            "Матриця 2x3:\n",
            " [[ 1 10 10]\n",
            " [ 3  2  4]]\n",
            "Добуток матриць:\n",
            " [[ 26  92 104]\n",
            " [ 19  22  34]]\n"
          ]
        }
      ]
    },
    {
      "cell_type": "code",
      "source": [
        "# 8. Створіть матрицю розміром 3x3, заповніть її випадковими цілими числами в\n",
        "# діапазоні від 1 до 10 та знайдіть її обернену матрицю.\n",
        "\n",
        "matrix_3x3 = np.random.randint(1, 11, size=(3, 3))\n",
        "inverse_matrix = np.linalg.inv(matrix_3x3)\n",
        "print(\"Матриця 3x3:\\n\", matrix_3x3)\n",
        "print(\"Обернена матриця:\\n\", inverse_matrix)\n"
      ],
      "metadata": {
        "colab": {
          "base_uri": "https://localhost:8080/"
        },
        "id": "V6hoQQj2XLHA",
        "outputId": "e74aa3c6-e6b7-46cc-b653-0f1459e50446"
      },
      "execution_count": 9,
      "outputs": [
        {
          "output_type": "stream",
          "name": "stdout",
          "text": [
            "Матриця 3x3:\n",
            " [[10  3  8]\n",
            " [ 2  1 10]\n",
            " [10  8  2]]\n",
            "Обернена матриця:\n",
            " [[ 0.17567568 -0.13063063 -0.04954955]\n",
            " [-0.21621622  0.13513514  0.18918919]\n",
            " [-0.01351351  0.11261261 -0.00900901]]\n"
          ]
        }
      ]
    },
    {
      "cell_type": "code",
      "source": [
        "# 9. Створіть матрицю розміром 4x4, заповніть її випадковими дійсними числами в\n",
        "# діапазоні від 0 до 1 та транспонуйте її.\n",
        "\n",
        "matrix_4x4 = np.random.rand(4, 4)\n",
        "transposed_matrix = matrix_4x4.T\n",
        "print(\"Матриця 4x4:\\n\", matrix_4x4)\n",
        "print(\"Транспонована матриця:\\n\", transposed_matrix)\n"
      ],
      "metadata": {
        "colab": {
          "base_uri": "https://localhost:8080/"
        },
        "id": "ezfaxxOIYKnC",
        "outputId": "dcd396f8-1e28-4207-9447-70a671a248d7"
      },
      "execution_count": 10,
      "outputs": [
        {
          "output_type": "stream",
          "name": "stdout",
          "text": [
            "Матриця 4x4:\n",
            " [[0.35531579 0.40511551 0.33361808 0.73091107]\n",
            " [0.23675817 0.75096008 0.55831585 0.61553518]\n",
            " [0.87771016 0.8249978  0.91307486 0.60866509]\n",
            " [0.24186669 0.85857426 0.42486023 0.48807872]]\n",
            "Транспонована матриця:\n",
            " [[0.35531579 0.23675817 0.87771016 0.24186669]\n",
            " [0.40511551 0.75096008 0.8249978  0.85857426]\n",
            " [0.33361808 0.55831585 0.91307486 0.42486023]\n",
            " [0.73091107 0.61553518 0.60866509 0.48807872]]\n"
          ]
        }
      ]
    },
    {
      "cell_type": "code",
      "source": [
        "# 10. Створіть матрицю розміром 3x4 та вектор розміром 4, заповніть їх випадковими\n",
        "# цілими числами в діапазоні від 1 до 10 та перемножте матрицю на вектор.\n",
        "\n",
        "matrix_3x4 = np.random.randint(1, 11, size=(3, 4))\n",
        "vector_4 = np.random.randint(1, 11, size=4)\n",
        "product_matrix_vector = np.dot(matrix_3x4, vector_4)\n",
        "print(\"Матриця 3x4:\\n\", matrix_3x4)\n",
        "print(\"Вектор розміром 4:\", vector_4)\n",
        "print(\"Добуток матриці та вектора:\", product_matrix_vector)\n"
      ],
      "metadata": {
        "colab": {
          "base_uri": "https://localhost:8080/"
        },
        "id": "pC6tfQYsY454",
        "outputId": "fbc9a423-d6c0-4eb8-fb46-69d1eed10499"
      },
      "execution_count": 11,
      "outputs": [
        {
          "output_type": "stream",
          "name": "stdout",
          "text": [
            "Матриця 3x4:\n",
            " [[ 7  4  3  8]\n",
            " [ 3  9  3  2]\n",
            " [ 6  9 10  7]]\n",
            "Вектор розміром 4: [ 2  7  9 10]\n",
            "Добуток матриці та вектора: [149 116 235]\n"
          ]
        }
      ]
    },
    {
      "cell_type": "code",
      "source": [
        "# 11. Створіть матрицю розміром 2x3 та вектор розміром 3, заповніть їх випадковими\n",
        "# дійсними числами в діапазоні від 0 до 1 та перемножте матрицю на вектор.\n",
        "\n",
        "matrix_2x3 = np.random.rand(2, 3)\n",
        "vector_3 = np.random.rand(3)\n",
        "product_matrix_vector = np.dot(matrix_2x3, vector_3)\n",
        "print(\"Матриця 2x3:\\n\", matrix_2x3)\n",
        "print(\"Вектор розміром 3:\", vector_3)\n",
        "print(\"Добуток матриці та вектора:\", product_matrix_vector)\n"
      ],
      "metadata": {
        "colab": {
          "base_uri": "https://localhost:8080/"
        },
        "id": "Vf_XYqukZUAi",
        "outputId": "02572d72-4815-4d61-f6c0-f9a124d67334"
      },
      "execution_count": 12,
      "outputs": [
        {
          "output_type": "stream",
          "name": "stdout",
          "text": [
            "Матриця 2x3:\n",
            " [[0.15517611 0.16387501 0.33072642]\n",
            " [0.79420103 0.04057547 0.43592712]]\n",
            "Вектор розміром 3: [0.87214566 0.72741226 0.09786631]\n",
            "Добуток матриці та вектора: [0.28690783 0.76483665]\n"
          ]
        }
      ]
    },
    {
      "cell_type": "code",
      "source": [
        "# 12. Створіть дві матриці розміром 2x2, заповніть їх випадковими цілими числами в\n",
        "# діапазоні від 1 до 10 та виконайте їхнє поелементне множення.\n",
        "\n",
        "matrix1_2x2 = np.random.randint(1, 11, size=(2, 2))\n",
        "matrix2_2x2 = np.random.randint(1, 11, size=(2, 2))\n",
        "elementwise_product = matrix1_2x2 * matrix2_2x2\n",
        "print(\"Матриця 1 (2x2):\\n\", matrix1_2x2)\n",
        "print(\"Матриця 2 (2x2):\\n\", matrix2_2x2)\n",
        "print(\"Поелементне множення:\\n\", elementwise_product)\n"
      ],
      "metadata": {
        "colab": {
          "base_uri": "https://localhost:8080/"
        },
        "id": "-iwshigtcbIH",
        "outputId": "ccef8679-f3b4-4a32-8208-55eac5537d3a"
      },
      "execution_count": 13,
      "outputs": [
        {
          "output_type": "stream",
          "name": "stdout",
          "text": [
            "Матриця 1 (2x2):\n",
            " [[9 3]\n",
            " [5 6]]\n",
            "Матриця 2 (2x2):\n",
            " [[2 1]\n",
            " [5 6]]\n",
            "Поелементне множення:\n",
            " [[18  3]\n",
            " [25 36]]\n"
          ]
        }
      ]
    },
    {
      "cell_type": "code",
      "source": [
        "# 13. Створіть дві матриці розміром 2x2, заповніть їх випадковими цілими числами в\n",
        "# діапазоні від 1 до 10 та знайдіть їх добуток.\n",
        "\n",
        "matrix1_2x2 = np.random.randint(1, 11, size=(2, 2))\n",
        "matrix2_2x2 = np.random.randint(1, 11, size=(2, 2))\n",
        "matrix_product = np.dot(matrix1_2x2, matrix2_2x2)\n",
        "print(\"Матриця 1 (2x2):\\n\", matrix1_2x2)\n",
        "print(\"Матриця 2 (2x2):\\n\", matrix2_2x2)\n",
        "print(\"Добуток матриць:\\n\", matrix_product)\n"
      ],
      "metadata": {
        "colab": {
          "base_uri": "https://localhost:8080/"
        },
        "id": "PNVXwf1doG1c",
        "outputId": "e64200f2-558a-4bff-be39-a3c7bf455505"
      },
      "execution_count": 14,
      "outputs": [
        {
          "output_type": "stream",
          "name": "stdout",
          "text": [
            "Матриця 1 (2x2):\n",
            " [[3 2]\n",
            " [3 9]]\n",
            "Матриця 2 (2x2):\n",
            " [[ 5 10]\n",
            " [ 7  8]]\n",
            "Добуток матриць:\n",
            " [[ 29  46]\n",
            " [ 78 102]]\n"
          ]
        }
      ]
    },
    {
      "cell_type": "code",
      "source": [
        "# 14. Створіть матрицю розміром 5x5, заповніть її випадковими цілими числами в\n",
        "# діапазоні від 1 до 100 та знайдіть суму елементів матриці.\n",
        "\n",
        "matrix_5x5 = np.random.randint(1, 101, size=(5, 5))\n",
        "sum_elements = np.sum(matrix_5x5)\n",
        "print(\"Матриця 5x5:\\n\", matrix_5x5)\n",
        "print(\"Сума елементів матриці:\", sum_elements)\n"
      ],
      "metadata": {
        "colab": {
          "base_uri": "https://localhost:8080/"
        },
        "id": "Vp3qgaz0ooJn",
        "outputId": "12c015da-76df-4982-960e-eb69ad99ee40"
      },
      "execution_count": 15,
      "outputs": [
        {
          "output_type": "stream",
          "name": "stdout",
          "text": [
            "Матриця 5x5:\n",
            " [[ 92  24  56  79  54]\n",
            " [ 46  90  27 100  85]\n",
            " [ 16   7  71  56  39]\n",
            " [ 79  90   8  20  24]\n",
            " [ 13  46  52   6  95]]\n",
            "Сума елементів матриці: 1275\n"
          ]
        }
      ]
    },
    {
      "cell_type": "code",
      "source": [
        "# 15. Створіть дві матриці розміром 4x4, заповніть їх випадковими цілими числами в\n",
        "# діапазоні від 1 до 10 та знайдіть їхню різницю.\n",
        "\n",
        "matrix1_4x4 = np.random.randint(1, 11, size=(4, 4))\n",
        "matrix2_4x4 = np.random.randint(1, 11, size=(4, 4))\n",
        "difference_matrix = matrix1_4x4 - matrix2_4x4\n",
        "print(\"Матриця 1 (4x4):\\n\", matrix1_4x4)\n",
        "print(\"Матриця 2 (4x4):\\n\", matrix2_4x4)\n",
        "print(\"Різниця матриць:\\n\", difference_matrix)\n"
      ],
      "metadata": {
        "colab": {
          "base_uri": "https://localhost:8080/"
        },
        "id": "QOumCcdko5KF",
        "outputId": "352161f3-7b00-4878-aa36-3e17710585ad"
      },
      "execution_count": 16,
      "outputs": [
        {
          "output_type": "stream",
          "name": "stdout",
          "text": [
            "Матриця 1 (4x4):\n",
            " [[ 3  1  5  8]\n",
            " [ 2  3  2  4]\n",
            " [10  3  9  7]\n",
            " [ 6  9  1  8]]\n",
            "Матриця 2 (4x4):\n",
            " [[ 5  3  1  2]\n",
            " [ 7  1  5  8]\n",
            " [10  2  9  9]\n",
            " [ 7  8  9  1]]\n",
            "Різниця матриць:\n",
            " [[-2 -2  4  6]\n",
            " [-5  2 -3 -4]\n",
            " [ 0  1  0 -2]\n",
            " [-1  1 -8  7]]\n"
          ]
        }
      ]
    },
    {
      "cell_type": "code",
      "source": [
        "# 16. Створіть матрицю розміром 3x3, заповніть її випадковими дійсними числами в\n",
        "# діапазоні від 0 до 1 та знайдіть вектор-стовпчик, що містить суму елементів\n",
        "# кожного рядка матриці.\n",
        "\n",
        "matrix_3x3 = np.random.rand(3, 3)\n",
        "row_sum = np.sum(matrix_3x3, axis=1)\n",
        "print(\"Матриця 3x3:\\n\", matrix_3x3)\n",
        "print(\"Сума елементів кожного рядка:\", row_sum)\n"
      ],
      "metadata": {
        "colab": {
          "base_uri": "https://localhost:8080/"
        },
        "id": "tMoVxiBFpEEd",
        "outputId": "2be09409-8504-4a5d-e1bf-8ea66944c7fe"
      },
      "execution_count": 17,
      "outputs": [
        {
          "output_type": "stream",
          "name": "stdout",
          "text": [
            "Матриця 3x3:\n",
            " [[0.28172064 0.09690354 0.70000059]\n",
            " [0.06168842 0.3848692  0.73123213]\n",
            " [0.25183719 0.25506383 0.06000974]]\n",
            "Сума елементів кожного рядка: [1.07862476 1.17778976 0.56691076]\n"
          ]
        }
      ]
    },
    {
      "cell_type": "code",
      "source": [
        "# 17. Створіть матрицю розміром 3x4 з довільними цілими числами і створінь матрицю з\n",
        "# квадратами цих чисел.\n",
        "\n",
        "matrix_3x4 = np.random.randint(1, 11, size=(3, 4))\n",
        "matrix_square = np.square(matrix_3x4)\n",
        "print(\"Матриця 3x4:\\n\", matrix_3x4)\n",
        "print(\"Квадрат елементів матриці:\\n\", matrix_square)\n"
      ],
      "metadata": {
        "colab": {
          "base_uri": "https://localhost:8080/"
        },
        "id": "c01vL04Kp5UQ",
        "outputId": "a8876d05-10ba-4ddd-ed85-da57f34c4367"
      },
      "execution_count": 18,
      "outputs": [
        {
          "output_type": "stream",
          "name": "stdout",
          "text": [
            "Матриця 3x4:\n",
            " [[10  3  9  2]\n",
            " [ 8 10  3  8]\n",
            " [ 7  7  8  2]]\n",
            "Квадрат елементів матриці:\n",
            " [[100   9  81   4]\n",
            " [ 64 100   9  64]\n",
            " [ 49  49  64   4]]\n"
          ]
        }
      ]
    },
    {
      "cell_type": "code",
      "source": [
        "# 18. Створіть вектор розміром 4, заповніть його випадковими цілими числами в\n",
        "# діапазоні від 1 до 50 та знайдіть вектор з квадратними коренями цих чисел.\n",
        "\n",
        "vector_4 = np.random.randint(1, 51, size=4)\n",
        "vector_sqrt = np.sqrt(vector_4)\n",
        "print(\"Вектор розміром 4:\", vector_4)\n",
        "print(\"Квадратний корінь вектора:\", vector_sqrt)\n"
      ],
      "metadata": {
        "colab": {
          "base_uri": "https://localhost:8080/"
        },
        "id": "wsWbk3AYqFFx",
        "outputId": "7e672f3d-8fb2-404d-a41e-0c4d1349b53f"
      },
      "execution_count": 19,
      "outputs": [
        {
          "output_type": "stream",
          "name": "stdout",
          "text": [
            "Вектор розміром 4: [ 7  6 44 45]\n",
            "Квадратний корінь вектора: [2.64575131 2.44948974 6.63324958 6.70820393]\n"
          ]
        }
      ]
    }
  ]
}